{
 "cells": [
  {
   "cell_type": "markdown",
   "id": "9c16bbce",
   "metadata": {},
   "source": [
    "## World Happiness Report - Exploratory Data Analysis"
   ]
  },
  {
   "cell_type": "markdown",
   "id": "4645814b",
   "metadata": {},
   "source": [
    "The World Happiness Report is an annual publication that ranks countries based on their happiness levels, as measured by a range of economic, social, and political indicators. The report is produced by the United Nations Sustainable Development Solutions Network. It is designed to provide policymakers, academics, and the general public with insights into the factors that contribute to happiness and well-being around the world.\n",
    "\n",
    "In this project, an analysis of the World Happiness Report 2023 dataset was conducted, exploring the relationships between happiness scores, regional trends, and key indicators such as GDP per capita, social support, healthy life expectancy, freedom to make life choices, generosity, and perceptions of corruption. \n",
    "\n",
    "The dataset was downloaded from the World Happiness Report website, which provides open access to the data and tools for analysis. By examining these relationships, insights were gained into the complex and multifaceted nature of happiness and well-being, and potential strategies for promoting happiness and improving quality of life around the world were identified. Finally, the happiness scores of all the countries around the world were presented on a map with a timeline from 2005 to 2022. "
   ]
  },
  {
   "cell_type": "code",
   "execution_count": null,
   "id": "803be60a",
   "metadata": {},
   "outputs": [],
   "source": [
    "import numpy as np\n",
    "import pandas as pd\n",
    "import matplotlib.pyplot as plt\n",
    "import seaborn as sns\n",
    "import plotly.express as px\n",
    "import warnings\n",
    "warnings.filterwarnings(\"ignore\")"
   ]
  },
  {
   "cell_type": "markdown",
   "id": "1bc12e21",
   "metadata": {},
   "source": [
    "**World Happiness Report Dataset**"
   ]
  },
  {
   "cell_type": "code",
   "execution_count": null,
   "id": "2e637b35",
   "metadata": {},
   "outputs": [],
   "source": [
    "whr_df = pd.read_csv(\"whr2023.csv\")\n",
    "whr_df.head()"
   ]
  },
  {
   "cell_type": "markdown",
   "id": "2c36507c",
   "metadata": {},
   "source": [
    "**Filter the columns and copy only the ones that will be used for analysis.**"
   ]
  },
  {
   "cell_type": "code",
   "execution_count": null,
   "id": "8b75ca38",
   "metadata": {},
   "outputs": [],
   "source": [
    "columns = ['Country name', 'iso alpha', 'Regional indicator', 'Happiness score', 'Logged GDP per capita', 'Social support', 'Healthy life expectancy', 'Freedom to make life choices', 'Generosity', 'Perceptions of corruption']\n",
    "happy_df = whr_df[columns].copy()\n",
    "happy_df.head()"
   ]
  },
  {
   "cell_type": "markdown",
   "id": "25e33125",
   "metadata": {},
   "source": [
    "**Convert all column names to lowercase.**"
   ]
  },
  {
   "cell_type": "code",
   "execution_count": null,
   "id": "e7ec0726",
   "metadata": {},
   "outputs": [],
   "source": [
    "happy_df.columns = happy_df.columns.str.lower()\n",
    "happy_df.head()"
   ]
  },
  {
   "cell_type": "markdown",
   "id": "e75d1df2",
   "metadata": {},
   "source": [
    "**Data Info**"
   ]
  },
  {
   "cell_type": "code",
   "execution_count": null,
   "id": "040a0c21",
   "metadata": {},
   "outputs": [],
   "source": [
    "happy_df.info()"
   ]
  },
  {
   "cell_type": "code",
   "execution_count": null,
   "id": "e7aa797f",
   "metadata": {},
   "outputs": [],
   "source": [
    "# Check if there are any missing values\n",
    "happy_df.isnull().sum()"
   ]
  },
  {
   "cell_type": "code",
   "execution_count": null,
   "id": "6116ba6b",
   "metadata": {},
   "outputs": [],
   "source": [
    "happy_df[happy_df.isnull().any(axis = 1)]"
   ]
  },
  {
   "cell_type": "markdown",
   "id": "da473863",
   "metadata": {},
   "source": [
    "* A missing value has been identified in the healthy life expectancy column for the country State of Palestine. It has been decided to leave the value as is, as assumptions could bias the information and the value is not provided in the report. It has been noted for future reference. The decision to leave this missing value as is will not affect the analysis."
   ]
  },
  {
   "cell_type": "code",
   "execution_count": null,
   "id": "ede19f03",
   "metadata": {},
   "outputs": [],
   "source": [
    "# Choose the numerical columns for further analysis\n",
    "numerical_columns = ['happiness score', 'logged gdp per capita', 'social support', 'healthy life expectancy', 'freedom to make life choices', 'generosity', 'perceptions of corruption']\n",
    "happy_df[numerical_columns].describe()"
   ]
  },
  {
   "cell_type": "markdown",
   "id": "b6a8fa09",
   "metadata": {},
   "source": [
    "**The distribution of numerical data using both histograms and boxplots.**"
   ]
  },
  {
   "cell_type": "code",
   "execution_count": null,
   "id": "e0692fde",
   "metadata": {},
   "outputs": [],
   "source": [
    "# Create a function that displays the distribution of numerical data using both histograms and boxplots.\n",
    "def show_distribution(var):\n",
    "    var_min = happy_df[var].min()\n",
    "    var_mean = happy_df[var].mean()\n",
    "    var_median = happy_df[var].median()\n",
    "    var_mode = happy_df[var].mode()[0]\n",
    "    var_max = happy_df[var].max()\n",
    "    \n",
    "    # Histogram \n",
    "    fig, ax = plt.subplots(2, 1, figsize = (8,8))\n",
    "    sns.histplot(happy_df, x = var, kde = True, color = 'red', alpha = 0.2, ax = ax[0])\n",
    "    ax[0].set_ylabel(\"Frequency\")\n",
    "    \n",
    "    ax[0].axvline(x = var_min, color = 'gray', linewidth = 2, linestyle = \"--\")\n",
    "    ax[0].axvline(x = var_mean, color = 'blue', linewidth = 2, linestyle = \"--\")\n",
    "    ax[0].axvline(x = var_median, color = 'brown', linewidth = 2, linestyle = \"--\")\n",
    "    ax[0].axvline(x = var_mode, color = 'cyan', linewidth = 2, linestyle = \"--\")\n",
    "    ax[0].axvline(x = var_max, color = 'gray', linewidth = 2, linestyle = \"--\")\n",
    "    \n",
    "    # Box plot\n",
    "    sns.boxplot(happy_df, x = var, width = 0.3, ax = ax[1],)\n",
    "    ax[1].set_xlabel(\"Value\")\n",
    "    \n",
    "    fig.suptitle(\"Data Distribution - \" + var, size = 15)\n",
    "    fig.show()"
   ]
  },
  {
   "cell_type": "code",
   "execution_count": null,
   "id": "fe69d3d2",
   "metadata": {
    "scrolled": false
   },
   "outputs": [],
   "source": [
    "# Call show_distribution function\n",
    "for column in numerical_columns:\n",
    "    show_distribution(column)"
   ]
  },
  {
   "cell_type": "markdown",
   "id": "6ffd9209",
   "metadata": {},
   "source": [
    "* Outliers have been identified in the distribution of perceptions of corruption. Despite this, it has been decided to keep them in the analysis as they may indicate the existence of extraordinary situations in the country."
   ]
  },
  {
   "cell_type": "markdown",
   "id": "b4be13a0",
   "metadata": {},
   "source": [
    "**Generate a heatmap to identify the correlation**"
   ]
  },
  {
   "cell_type": "code",
   "execution_count": null,
   "id": "755a13f6",
   "metadata": {},
   "outputs": [],
   "source": [
    "# Generate a heatmap to identify the correlation\n",
    "corr = happy_df.corr()\n",
    "fig = plt.figure(figsize = (12,8))\n",
    "sns.heatmap(corr, cmap = 'Blues', linewidth = 0.5, annot = True)"
   ]
  },
  {
   "cell_type": "markdown",
   "id": "d4759b99",
   "metadata": {},
   "source": [
    "* This heat map reveals several strong correlations between factors and happiness score. It has been found that countries with higher GDP per capita, healthier life expectancies, greater freedom to make choices, and stronger social support tend to have higher happiness scores. Furthermore, a strong positive correlation has been found between GDP per capita, healthy life expectancy, and social support.\n",
    "* In addition, a negative correlation has been found between happiness score and perceptions of corruption. This suggests that maintaining high levels of happiness among citizens may be challenging for countries with higher levels of corruption.\n",
    "* Overall, these findings highlight the importance of economic, social, and political factors in determining happiness levels across countries. \n"
   ]
  },
  {
   "cell_type": "markdown",
   "id": "dfd44c4c",
   "metadata": {},
   "source": [
    "**A scatter plot has been created to further explore the distribution of the factors, depicting the relationship between the happiness score and other factors.**"
   ]
  },
  {
   "cell_type": "code",
   "execution_count": null,
   "id": "690dcd18",
   "metadata": {},
   "outputs": [],
   "source": [
    "#Happiness score vs other factors\n",
    "tab_20_colors = [\"#1f77b4\", \"#2ca02c\", \"#9467bd\", \"#e377c2\", \"#bcbd22\", \"#9edae5\"]\n",
    "fig, ax = plt.subplots(3, 2, figsize = (12,12))\n",
    "i = 0\n",
    "for j, column in enumerate(numerical_columns[1:]):\n",
    "    corr = happy_df['happiness score'].corr(happy_df[column])\n",
    "    sns.regplot(happy_df, x = \"happiness score\", y = column, color = tab_20_colors[i], ax = ax[j//2, j%2])\n",
    "    ax[j//2, j%2].set_title(\"Correlation = {:.4f}\".format(corr))\n",
    "    i += 1 \n",
    "fig.tight_layout()\n",
    "fig.subplots_adjust(hspace = 0.3)\n",
    "fig.show()"
   ]
  },
  {
   "cell_type": "markdown",
   "id": "b33f6628",
   "metadata": {},
   "source": [
    "**The distribution of the strong positive correlation between GDP per capita, healthy life expectancy, and social support is depicted in a scatter plot below.**"
   ]
  },
  {
   "cell_type": "code",
   "execution_count": null,
   "id": "01a943eb",
   "metadata": {},
   "outputs": [],
   "source": [
    "fig = plt.figure(figsize = (12,7))\n",
    "sns.scatterplot(happy_df, x = \"logged gdp per capita\", y = \"healthy life expectancy\", hue = \"social support\", s = 150)\n",
    "plt.xlabel(\"GDP per capita\", size = 15)\n",
    "plt.ylabel(\"Healthy Life Expectancy\", size = 15)   \n",
    "plt.title(\"Relationship between GDP per Capita, Healthy Life Expectancy, and Social Support\", size = 20)\n",
    "plt.show()"
   ]
  },
  {
   "cell_type": "markdown",
   "id": "51b99711",
   "metadata": {},
   "source": [
    "**Analysis of happiness score and other factors across different region.**"
   ]
  },
  {
   "cell_type": "code",
   "execution_count": null,
   "id": "429e6896",
   "metadata": {},
   "outputs": [],
   "source": [
    "#Count of Countries by Region\n",
    "fig = plt.figure(figsize = (12,6))\n",
    "sns.countplot(happy_df, y = 'regional indicator', palette = 'tab20')\n",
    "plt.ylabel(\"Regions\")\n",
    "plt.xlabel(\"Counts\")\n",
    "plt.title(\"Count of Countries by Region\", size = 20)\n",
    "plt.show()"
   ]
  },
  {
   "cell_type": "code",
   "execution_count": null,
   "id": "21bbee82",
   "metadata": {},
   "outputs": [],
   "source": [
    "#Boxplot\n",
    "fig = plt.figure(figsize = (10,7))\n",
    "sns.boxplot(happy_df, y = 'regional indicator', x = \"happiness score\", palette = 'tab20')\n",
    "plt.title(\"Happiness Score by region\", size = 20)"
   ]
  },
  {
   "cell_type": "markdown",
   "id": "5d2ab9b3",
   "metadata": {},
   "source": [
    "* The box plot analysis indicates that higher median happiness scores are observed in the Western Europe, North America, and ANZ regions compared to other regions.\n",
    "* An outlier is observed in the South Asia region, where Afghanistan has a notably lower happiness score. This may be attributed to political instability and a lower healthy life expectancy in Afghanistan."
   ]
  },
  {
   "cell_type": "markdown",
   "id": "dbe93d62",
   "metadata": {},
   "source": [
    "**An analysis was conducted to further explore the factors that may contribute to higher or lower happiness scores across different regions. A bar chart was created to depict the average values of various factors, such as GDP per capita, social support, healthy life expectancy, etc., across different regions.**"
   ]
  },
  {
   "cell_type": "code",
   "execution_count": null,
   "id": "8fd1cda0",
   "metadata": {
    "scrolled": false
   },
   "outputs": [],
   "source": [
    "region_wise = happy_df.groupby(\"regional indicator\")[numerical_columns].mean().reset_index()\n",
    "fig, ax = plt.subplots(3, 2, figsize = (12,12))\n",
    "for i, column in enumerate(numerical_columns[1:]):\n",
    "    region_wise.sort_values(column, ascending = False, inplace = True)\n",
    "    sns.barplot(region_wise, x = column, y = 'regional indicator', palette = 'tab20', ax = ax[i//2, i%2])\n",
    "fig.tight_layout()\n",
    "fig.subplots_adjust(hspace = 0.3)\n",
    "fig.show()"
   ]
  },
  {
   "cell_type": "markdown",
   "id": "b4a59181",
   "metadata": {},
   "source": [
    "* It is suggested by this analysis that regions with higher median happiness scores, such as Western Europe, North America, and ANZ, tend to have higher average values in various key factors, including GDP per capita, social support, healthy life expectancy, and freedom to make life choices, compared to regions with lower median happiness scores.\n",
    "* Moreover, these regions exhibit lower average values in factors that are negatively associated with happiness levels, such as perceptions of corruption.\n",
    "* These findings underscore the significance of economic prosperity, social support networks, access to healthcare, and freedom to make life choices in promoting happiness and well-being across different regions."
   ]
  },
  {
   "cell_type": "markdown",
   "id": "7e1c9c64",
   "metadata": {},
   "source": [
    "**Top 10 happiest and least happy countries.**"
   ]
  },
  {
   "cell_type": "code",
   "execution_count": null,
   "id": "2b138f60",
   "metadata": {},
   "outputs": [],
   "source": [
    "#A column chart was created to analyze the top 10 happiest and least happy countries.\n",
    "top_10_happy_country = happy_df.sort_values('happiness score', ascending = False)\n",
    "bottom_10_happy_country = happy_df.sort_values('happiness score', ascending = True)\n",
    "\n",
    "fig, ax = plt.subplots(2, 1, figsize = (12,8))\n",
    "\n",
    "sns.barplot(top_10_happy_country.iloc[:10], y = 'happiness score', x = 'country name', palette = 'tab20', ax = ax[0])\n",
    "ax[0].set_title(\"Top 10 happiest countries\")\n",
    "\n",
    "\n",
    "\n",
    "sns.barplot(bottom_10_happy_country.iloc[:10], y = 'happiness score', x = 'country name', palette = 'tab20', ax = ax[1])\n",
    "ax[1].set_title(\"Top 10 least happy countries\")\n",
    "\n",
    "fig.tight_layout()\n",
    "fig.show()"
   ]
  },
  {
   "cell_type": "markdown",
   "id": "2b1812db",
   "metadata": {},
   "source": [
    "* The analysis revealed that eight out of the top 10 happiest countries are from the Western Europe region.\n",
    "* Similarly, the analysis of the top 10 least happy countries showed that eight out of 10 countries are from the Sub-Saharan Africa region."
   ]
  },
  {
   "cell_type": "markdown",
   "id": "b0507dc9",
   "metadata": {},
   "source": [
    "**A country-by-country analysis**"
   ]
  },
  {
   "cell_type": "code",
   "execution_count": null,
   "id": "4048b6fd",
   "metadata": {},
   "outputs": [],
   "source": [
    "happy_df_time_line = pd.read_csv(\"whr_200522.csv\")\n",
    "happy_df_time_line.sort_values('year', inplace = True)"
   ]
  },
  {
   "cell_type": "code",
   "execution_count": null,
   "id": "e02be545",
   "metadata": {
    "scrolled": false
   },
   "outputs": [],
   "source": [
    "px.choropleth(happy_df_time_line, locations=\"Iso alpha\", color=\"Happiness score\", animation_frame=\"year\" ,hover_name=\"Country name\", range_color=[0,8], color_continuous_scale=px.colors.diverging.RdBu, width = 950, height = 600, title = \"Global Happiness Scores: A Country-by-Country Analysis\")"
   ]
  },
  {
   "cell_type": "markdown",
   "id": "0b36977f",
   "metadata": {},
   "source": [
    "* The map shows that happiness scores have generally remained stable or increased slightly over time, with a few notable dips during times of economic and political instability."
   ]
  },
  {
   "cell_type": "markdown",
   "id": "3c4d8431",
   "metadata": {},
   "source": [
    "## Conclusion"
   ]
  },
  {
   "cell_type": "markdown",
   "id": "909c8caf",
   "metadata": {},
   "source": [
    "In conclusion, this project has provided a comprehensive analysis of happiness scores around the world, highlighting the importance of economic, social, and health factors in determining individual and societal well-being. The findings suggest that promoting economic prosperity, social support networks, and access to healthcare can contribute to higher levels of happiness, while reducing corruption can help ensure that these gains are sustainable over time. By prioritizing happiness as a key goal for individuals, communities, and policymakers, we can work towards creating a world that is more just, equitable, and fulfilling for all."
   ]
  }
 ],
 "metadata": {
  "hide_input": false,
  "kernelspec": {
   "display_name": "Python 3",
   "language": "python",
   "name": "python3"
  },
  "language_info": {
   "codemirror_mode": {
    "name": "ipython",
    "version": 3
   },
   "file_extension": ".py",
   "mimetype": "text/x-python",
   "name": "python",
   "nbconvert_exporter": "python",
   "pygments_lexer": "ipython3",
   "version": "3.12.0"
  },
  "varInspector": {
   "cols": {
    "lenName": 16,
    "lenType": 16,
    "lenVar": 40
   },
   "kernels_config": {
    "python": {
     "delete_cmd_postfix": "",
     "delete_cmd_prefix": "del ",
     "library": "var_list.py",
     "varRefreshCmd": "print(var_dic_list())"
    },
    "r": {
     "delete_cmd_postfix": ") ",
     "delete_cmd_prefix": "rm(",
     "library": "var_list.r",
     "varRefreshCmd": "cat(var_dic_list()) "
    }
   },
   "types_to_exclude": [
    "module",
    "function",
    "builtin_function_or_method",
    "instance",
    "_Feature"
   ],
   "window_display": false
  }
 },
 "nbformat": 4,
 "nbformat_minor": 5
}
