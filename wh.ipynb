# Folder: World-Happiness-2023-EDA

# --- File: README.md ---
readme_content = """
# 🌍 World Happiness Report 2023 - Exploratory Data Analysis

This project explores the World Happiness Report 2023 using Python. The goal is to identify key features that influence happiness across countries, build visualizations, and draw insights from the data.

## 📆 Dataset
The dataset was obtained from the [World Happiness Report Website](https://worldhappiness.report). It includes:
- Country-level Happiness Score
- Logged GDP per capita
- Social support
- Healthy life expectancy
- Freedom to make life choices
- Generosity
- Perceptions of corruption

## 🧪 Tools & Libraries
- Python
- Pandas, NumPy
- Matplotlib, Seaborn
- Plotly (for interactivity)
- Jupyter Notebook

## 📊 Visualizations
Interactive and static charts help us tell the story:
- `top10_happiness_bar.png`: Shows the top 10 happiest countries.
- `gdp_vs_happiness_plotly.html`: Interactive GDP vs. Happiness scatter plot.
- `heatmap_corr.png`: Correlation heatmap for all variables.

## 🚀 How to Run
1. Clone the repo
2. Install dependencies: `pip install -r requirements.txt`
3. Open `EDA_Notebook.ipynb` in Jupyter/Colab
4. View plots in the `/Visualizations` folder or render live in notebook

## 🔍 Insights
- GDP, social support, and life expectancy are strong positive indicators of happiness.
- Countries with low corruption and more freedom tend to have higher happiness scores.
- Economic prosperity doesn't always mean happiness—social factors matter too.
"""

# --- File: Visualizations/top10_happiness_bar.png ---
bar_plot_code = """
import pandas as pd
import matplotlib.pyplot as plt
import seaborn as sns

df = pd.read_csv("Dataset/whr2023.csv")

top10 = df.sort_values(by='Happiness score', ascending=False).head(10)

plt.figure(figsize=(10, 6))
sns.barplot(data=top10, x='Happiness score', y='Country name', palette='viridis')
plt.title('Top 10 Happiest Countries - 2023')
plt.xlabel('Happiness Score')
plt.ylabel('Country')
plt.tight_layout()
plt.savefig('Visualizations/top10_happiness_bar.png')
plt.show()
"""

# --- File: Visualizations/gdp_vs_happiness_plotly.html ---
plotly_code = """
import plotly.express as px
import pandas as pd

df = pd.read_csv("Dataset/whr2023.csv")

fig = px.scatter(df, 
                 x="Logged GDP per capita", 
                 y="Happiness score", 
                 color="Regional indicator",
                 hover_name="Country name",
                 title="GDP per Capita vs Happiness Score (2023)",
                 size='Healthy life expectancy',
                 template='plotly_dark')

fig.write_html("Visualizations/gdp_vs_happiness_plotly.html")
fig.show()
"""

# --- File: Visualizations/heatmap_corr.png ---
heatmap_code = """
import pandas as pd
import seaborn as sns
import matplotlib.pyplot as plt

# Load data
df = pd.read_csv("Dataset/whr2023.csv")

# Select relevant columns
cols = ['Happiness score', 'Logged GDP per capita', 'Social support',
        'Healthy life expectancy', 'Freedom to make life choices',
        'Generosity', 'Perceptions of corruption']
corr_matrix = df[cols].corr()

# Plot heatmap
plt.figure(figsize=(10, 8))
sns.heatmap(corr_matrix, annot=True, cmap='coolwarm', fmt=".2f")
plt.title("Correlation Heatmap - World Happiness Report 2023")
plt.tight_layout()
plt.savefig("Visualizations/heatmap_corr.png")
plt.show()
"""

# --- File: EDA_Notebook.ipynb (Outline Only) ---
edanb_outline = """
# 1. Introduction
# 2. Dataset Overview
# 3. Data Cleaning
# 4. Descriptive Statistics
# 5. Visualization 1: Top 10 Happiest Countries
# 6. Visualization 2: GDP vs Happiness Score (Interactive)
# 7. Visualization 3: Correlation Heatmap
# 8. Regional Analysis (Optional)
# 9. Feature Contribution
# 10. Conclusion and Insights
"""

# --- File: requirements.txt ---
requirements_content = """
pandas
numpy
matplotlib
seaborn
plotly
jupyter
"""
